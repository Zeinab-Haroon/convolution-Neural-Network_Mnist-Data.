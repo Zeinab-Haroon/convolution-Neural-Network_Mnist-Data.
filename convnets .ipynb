{
 "cells": [
  {
   "cell_type": "markdown",
   "metadata": {
    "colab_type": "text",
    "id": "mCt-frpFH8oN"
   },
   "source": [
    "The tutorials uses PyTorch. You will need to load the following dependencies."
   ]
  },
  {
   "cell_type": "code",
   "execution_count": 1,
   "metadata": {
    "colab": {},
    "colab_type": "code",
    "id": "hqnl0AKVXIA4"
   },
   "outputs": [],
   "source": [
    "import random\n",
    "\n",
    "import PIL\n",
    "from skimage import io\n",
    "import matplotlib.pyplot as plt\n",
    "import numpy as np\n",
    "import skimage.transform\n",
    "import torch\n",
    "import torch.nn as nn\n",
    "import torch.utils.data\n",
    "import torchvision\n",
    "from torchvision import datasets, transforms\n",
    "from IPython import display\n"
   ]
  },
  {
   "cell_type": "markdown",
   "metadata": {
    "colab_type": "text",
    "id": "CKeYuM-cIXxs"
   },
   "source": [
    "The code below may be helpful in visualizing PyTorch tensors as images."
   ]
  },
  {
   "cell_type": "code",
   "execution_count": 2,
   "metadata": {
    "colab": {},
    "colab_type": "code",
    "id": "ZZd_rI8edYIB"
   },
   "outputs": [],
   "source": [
    "%matplotlib inline\n",
    "\n",
    "def show(img):\n",
    "    \"\"\"Show PyTorch tensor img as an image in matplotlib.\"\"\"\n",
    "    npimg = img.cpu().detach().numpy()\n",
    "    plt.imshow(np.transpose(npimg, (1,2,0)), interpolation='nearest')\n",
    "    plt.grid(False)\n",
    "    plt.gca().axis('off')\n",
    "\n",
    "def display_thumb(img):\n",
    "  display.display(transforms.Resize(128)(img))"
   ]
  },
  {
   "cell_type": "code",
   "execution_count": 3,
   "metadata": {
    "colab": {},
    "colab_type": "code",
    "id": "dzfEE578uSNp"
   },
   "outputs": [],
   "source": [
    "device = 'cuda' if torch.cuda.is_available() else 'cpu'"
   ]
  },
  {
   "cell_type": "markdown",
   "metadata": {
    "colab_type": "text",
    "id": "71LRkRxndajG"
   },
   "source": [
    "## First tutorial:\n",
    "\n",
    "In the first tutorial, we are going to train a logistic regressor on the MNIST dataset of handwritten digits. Next, we will turn this logistic regressor into a non-linear convolutional network.\n",
    "\n",
    "The following code will load the MNIST dataset. Run it and inspect some of the images and their labels to confirm they are correct.\n",
    "\n"
   ]
  },
  {
   "cell_type": "code",
   "execution_count": 4,
   "metadata": {
    "colab": {},
    "colab_type": "code",
    "id": "GX_ky5qC--uv"
   },
   "outputs": [],
   "source": [
    "# Load the training and test dataset.\n",
    "mnist_train = datasets.MNIST('/tmp/mnist', train=True, download=True)\n",
    "mnist_test = datasets.MNIST('/tmp/mnist', train=False, download=True)"
   ]
  },
  {
   "cell_type": "code",
   "execution_count": 5,
   "metadata": {
    "colab": {},
    "colab_type": "code",
    "id": "E8dy7-kBHwco",
    "outputId": "756be78e-eabf-4ccb-ad45-926553ab7a5b"
   },
   "outputs": [
    {
     "name": "stdout",
     "output_type": "stream",
     "text": [
      "Label of image: 5 - five\n"
     ]
    },
    {
     "data": {
      "image/png": "[encoded data removed]",
      "text/plain": [
       "<PIL.Image.Image image mode=L size=28x28 at 0x7FDFAC1B6898>"
      ]
     },
     "execution_count": 5,
     "metadata": {},
     "output_type": "execute_result"
    }
   ],
   "source": [
    "# Show a random image and the corresponding target.\n",
    "img, target = mnist_train[0]\n",
    "print('Label of image:', mnist_train.classes[target])\n",
    "img"
   ]
  },
  {
   "cell_type": "markdown",
   "metadata": {
    "colab_type": "text",
    "id": "aKbXgidhWr6L"
   },
   "source": [
    "Next, we create a PyTorch dataloader for the MNIST dataset."
   ]
  },
  {
   "cell_type": "code",
   "execution_count": 6,
   "metadata": {
    "colab": {},
    "colab_type": "code",
    "id": "ay0iiI1kWyMC"
   },
   "outputs": [],
   "source": [
    "# This ensures the MNIST dataset produces PyTorch tensors.\n",
    "mnist_train.transform = transforms.ToTensor()\n",
    "mnist_test.transform = transforms.ToTensor()\n",
    "\n",
    "# Size of the batches the data loader will produce.\n",
    "batch_size = 64\n",
    "\n",
    "# This creates the dataloaders.\n",
    "train_loader = torch.utils.data.DataLoader(mnist_train, batch_size=batch_size, shuffle=True)\n",
    "test_loader = torch.utils.data.DataLoader(mnist_test, batch_size=batch_size, shuffle=False)"
   ]
  },
  {
   "cell_type": "markdown",
   "metadata": {
    "colab_type": "text",
    "id": "liekFZzvYX9E"
   },
   "source": [
    "Next, implement a logistic regression model in PyTorch. Note that a logistic regressor uses a linear transformation of the input.\n"
   ]
  },
  {
   "cell_type": "code",
   "execution_count": 7,
   "metadata": {
    "colab": {},
    "colab_type": "code",
    "id": "eFtFvYF3GVRz"
   },
   "outputs": [],
   "source": [
    "x = next(iter(train_loader))[0]#.shape"
   ]
  },
  {
   "cell_type": "code",
   "execution_count": 8,
   "metadata": {
    "colab": {},
    "colab_type": "code",
    "id": "zEw5YorSYkWF"
   },
   "outputs": [],
   "source": [
    "class LogisticRegression(nn.Module):\n",
    "  \"\"\"Linear logistic regression model.\"\"\"\n",
    "  \n",
    "  def __init__(self, input_size, num_classes):\n",
    "    super().__init__()\n",
    "    ###########################################################################\n",
    "    # TODO: Instantiate the layer here.\n",
    "    self.linear = nn.Linear(input_size,num_classes)\n",
    "#     torch.nn.Linear(input_size, num_classes)\n",
    "    ##########################################################################\n",
    "    \n",
    "  def forward(self, x):\n",
    "    outputs = self.linear(x.view(x.shape[0], -1))\n",
    "    return outputs"
   ]
  },
  {
   "cell_type": "code",
   "execution_count": 9,
   "metadata": {
    "colab": {},
    "colab_type": "code",
    "id": "fU7ONMVWOg_N"
   },
   "outputs": [],
   "source": [
    "#type(x)"
   ]
  },
  {
   "cell_type": "code",
   "execution_count": 10,
   "metadata": {
    "colab": {},
    "colab_type": "code",
    "id": "khicSoDvOg_P"
   },
   "outputs": [],
   "source": [
    "#x.shape"
   ]
  },
  {
   "cell_type": "code",
   "execution_count": 11,
   "metadata": {
    "colab": {},
    "colab_type": "code",
    "id": "VKhng1e7Og_S"
   },
   "outputs": [],
   "source": [
    "model = LogisticRegression(28*28, 10)\n",
    "# x = torch.from_numpy(x).unsqueeze(0).float()"
   ]
  },
  {
   "cell_type": "markdown",
   "metadata": {
    "colab_type": "text",
    "id": "HCerRXDHZFAS"
   },
   "source": [
    "We will use the following generic training loop for a PyTorch model."
   ]
  },
  {
   "cell_type": "code",
   "execution_count": 12,
   "metadata": {
    "colab": {},
    "colab_type": "code",
    "id": "qVyEKl3OZLJw"
   },
   "outputs": [],
   "source": [
    "def train(model, criterion, data_loader, optimizer, num_epochs):\n",
    "    \"\"\"Simple training loop for a PyTorch model.\"\"\"\n",
    "    \n",
    "    # Make sure model is in training mode.\n",
    "    model.train()\n",
    "    # Move model to the device.\n",
    "    model.to(device)\n",
    "    \n",
    "    # Exponential moving average of the loss.\n",
    "    ema_loss = None\n",
    "    \n",
    "    # Loop over epochs.\n",
    "    for epoch in range(num_epochs):\n",
    "      \n",
    "      # Loop over data.\n",
    "      for batch_idx, (data, target) in enumerate(data_loader):\n",
    "          data = data.to(device)\n",
    "          target = target.to(device)\n",
    "        \n",
    "          # Forward pass.\n",
    "          output = model(data)\n",
    "          loss = criterion(output, target)\n",
    "          \n",
    "          # Backward pass.\n",
    "          optimizer.zero_grad()\n",
    "          loss.backward()\n",
    "          optimizer.step()\n",
    "          \n",
    "          if ema_loss is None:\n",
    "            ema_loss = loss.item()\n",
    "          else:\n",
    "            ema_loss += (loss.item() - ema_loss) * 0.01 \n",
    "          \n",
    "          # Print out progress.\n",
    "          if batch_idx % 100 == 0:\n",
    "              print('Train Epoch: {} [{}/{} ({:.0f}%)]\\tLoss: {:.6f}'.format(\n",
    "                    epoch, batch_idx * len(data), \n",
    "                    len(data_loader.dataset),\n",
    "                    100. * batch_idx / len(data_loader), ema_loss),\n",
    "              )"
   ]
  },
  {
   "cell_type": "code",
   "execution_count": 13,
   "metadata": {
    "colab": {},
    "colab_type": "code",
    "id": "kC3z31pvadeP",
    "outputId": "1fa187f5-13b2-4d45-aaa8-ba65bed2091a"
   },
   "outputs": [
    {
     "name": "stdout",
     "output_type": "stream",
     "text": [
      "Train Epoch: 0 [0/60000 (0%)]\tLoss: 2.340074\n",
      "Train Epoch: 0 [6400/60000 (11%)]\tLoss: 2.019465\n",
      "Train Epoch: 0 [12800/60000 (21%)]\tLoss: 1.576754\n",
      "Train Epoch: 0 [19200/60000 (32%)]\tLoss: 1.260821\n",
      "Train Epoch: 0 [25600/60000 (43%)]\tLoss: 1.051234\n",
      "Train Epoch: 0 [32000/60000 (53%)]\tLoss: 0.916547\n",
      "Train Epoch: 0 [38400/60000 (64%)]\tLoss: 0.824287\n",
      "Train Epoch: 0 [44800/60000 (75%)]\tLoss: 0.763466\n",
      "Train Epoch: 0 [51200/60000 (85%)]\tLoss: 0.703778\n",
      "Train Epoch: 0 [57600/60000 (96%)]\tLoss: 0.672678\n",
      "Train Epoch: 1 [0/60000 (0%)]\tLoss: 0.655793\n",
      "Train Epoch: 1 [6400/60000 (11%)]\tLoss: 0.632658\n",
      "Train Epoch: 1 [12800/60000 (21%)]\tLoss: 0.604581\n",
      "Train Epoch: 1 [19200/60000 (32%)]\tLoss: 0.581447\n",
      "Train Epoch: 1 [25600/60000 (43%)]\tLoss: 0.569907\n",
      "Train Epoch: 1 [32000/60000 (53%)]\tLoss: 0.555908\n",
      "Train Epoch: 1 [38400/60000 (64%)]\tLoss: 0.538307\n",
      "Train Epoch: 1 [44800/60000 (75%)]\tLoss: 0.533691\n",
      "Train Epoch: 1 [51200/60000 (85%)]\tLoss: 0.521302\n",
      "Train Epoch: 1 [57600/60000 (96%)]\tLoss: 0.505722\n",
      "Train Epoch: 2 [0/60000 (0%)]\tLoss: 0.511728\n",
      "Train Epoch: 2 [6400/60000 (11%)]\tLoss: 0.506923\n",
      "Train Epoch: 2 [12800/60000 (21%)]\tLoss: 0.492630\n",
      "Train Epoch: 2 [19200/60000 (32%)]\tLoss: 0.484555\n",
      "Train Epoch: 2 [25600/60000 (43%)]\tLoss: 0.473717\n",
      "Train Epoch: 2 [32000/60000 (53%)]\tLoss: 0.471709\n",
      "Train Epoch: 2 [38400/60000 (64%)]\tLoss: 0.474968\n",
      "Train Epoch: 2 [44800/60000 (75%)]\tLoss: 0.469904\n",
      "Train Epoch: 2 [51200/60000 (85%)]\tLoss: 0.458543\n",
      "Train Epoch: 2 [57600/60000 (96%)]\tLoss: 0.449269\n",
      "Train Epoch: 3 [0/60000 (0%)]\tLoss: 0.454237\n",
      "Train Epoch: 3 [6400/60000 (11%)]\tLoss: 0.448681\n",
      "Train Epoch: 3 [12800/60000 (21%)]\tLoss: 0.441704\n",
      "Train Epoch: 3 [19200/60000 (32%)]\tLoss: 0.448018\n",
      "Train Epoch: 3 [25600/60000 (43%)]\tLoss: 0.434273\n",
      "Train Epoch: 3 [32000/60000 (53%)]\tLoss: 0.434626\n",
      "Train Epoch: 3 [38400/60000 (64%)]\tLoss: 0.431523\n",
      "Train Epoch: 3 [44800/60000 (75%)]\tLoss: 0.434922\n",
      "Train Epoch: 3 [51200/60000 (85%)]\tLoss: 0.422116\n",
      "Train Epoch: 3 [57600/60000 (96%)]\tLoss: 0.425873\n",
      "Train Epoch: 4 [0/60000 (0%)]\tLoss: 0.428162\n",
      "Train Epoch: 4 [6400/60000 (11%)]\tLoss: 0.422740\n",
      "Train Epoch: 4 [12800/60000 (21%)]\tLoss: 0.424766\n",
      "Train Epoch: 4 [19200/60000 (32%)]\tLoss: 0.419473\n",
      "Train Epoch: 4 [25600/60000 (43%)]\tLoss: 0.412418\n",
      "Train Epoch: 4 [32000/60000 (53%)]\tLoss: 0.400723\n",
      "Train Epoch: 4 [38400/60000 (64%)]\tLoss: 0.412126\n",
      "Train Epoch: 4 [44800/60000 (75%)]\tLoss: 0.396652\n",
      "Train Epoch: 4 [51200/60000 (85%)]\tLoss: 0.400977\n",
      "Train Epoch: 4 [57600/60000 (96%)]\tLoss: 0.397601\n"
     ]
    }
   ],
   "source": [
    "# Create model, criterion, and optimizer.\n",
    "model = LogisticRegression(28*28, 10)\n",
    "###########################################################################\n",
    "# TODO: Create criterion and optimize here.\n",
    "optimizer = torch.optim.SGD(model.parameters(), lr=0.01)\n",
    "\n",
    "#optimizer = optim.SGD(model.parameters(), lr=0.01, momentum=0.5)\n",
    "# Hint: see                                                               #\n",
    "#   https://pytorch.org/docs/stable/nn.html#loss-functions                #\n",
    "#   https://pytorch.org/docs/stable/optim.html                            #\n",
    "###########################################################################\n",
    "criterion = nn.CrossEntropyLoss()\n",
    "\n",
    "# Train the model. If everything is correct, the loss should go below 0.45.\n",
    "train(model, criterion, train_loader, optimizer, num_epochs=5)"
   ]
  },
  {
   "cell_type": "markdown",
   "metadata": {
    "colab_type": "text",
    "id": "x0QN7Mhiar7d"
   },
   "source": [
    "Visualize the weights of the trained model. What do you see? Why?"
   ]
  },
  {
   "cell_type": "code",
   "execution_count": 18,
   "metadata": {
    "colab": {},
    "colab_type": "code",
    "id": "gxletH44a4MX",
    "outputId": "b80ab637-f938-43f2-e4ce-65048b802b56"
   },
   "outputs": [
    {
     "data": {
      "image/png": "[encoded data removed]",
      "text/plain": [
       "<Figure size 432x288 with 1 Axes>"
      ]
     },
     "metadata": {
      "needs_background": "light"
     },
     "output_type": "display_data"
    }
   ],
   "source": [
    "assert model.linear.weight.shape == (10, 28 * 28)\n",
    "show(torchvision.utils.make_grid(\n",
    "    model.linear.weight.view(10, 1, 28, 28),\n",
    "    normalize=True,\n",
    "    nrow=5,\n",
    "))"
   ]
  },
  {
   "cell_type": "markdown",
   "metadata": {
    "colab_type": "text",
    "id": "Lxf5NxQ6a5cT"
   },
   "source": [
    "Use the following function to measure the test accuracy of your trained model."
   ]
  },
  {
   "cell_type": "code",
   "execution_count": 19,
   "metadata": {
    "colab": {},
    "colab_type": "code",
    "id": "8UYWbqZYa9Qr"
   },
   "outputs": [],
   "source": [
    "def test(model, data_loader):\n",
    "    \"\"\"Measures the accuracy of a model on a data set.\"\"\"\n",
    "    \n",
    "    # Make sure the model is in evaluation mode.\n",
    "    model.eval()\n",
    "    correct = 0\n",
    "\n",
    "    # We do not need to maintain intermediate activations while testing.\n",
    "    with torch.no_grad():\n",
    "      \n",
    "        # Loop over test data.\n",
    "        for data, target in data_loader:\n",
    "          \n",
    "            # Forward pass.\n",
    "            output = model(data.to(device))\n",
    "            \n",
    "            # Get the label corresponding to the highest predicted probability.\n",
    "            pred = output.argmax(dim=1, keepdim=True)\n",
    "            \n",
    "            # Count number of correct predictions.\n",
    "            correct += pred.cpu().eq(target.view_as(pred)).sum().item()\n",
    "\n",
    "    # Print test accuracy.\n",
    "    print('Accuracy: {}/{} ({:.0f}%)\\n'.format(\n",
    "          correct, \n",
    "          len(data_loader.dataset),\n",
    "          100. * correct / len(data_loader.dataset)),\n",
    "    )  "
   ]
  },
  {
   "cell_type": "code",
   "execution_count": 20,
   "metadata": {
    "colab": {},
    "colab_type": "code",
    "id": "MrEY_dy5AKQV",
    "outputId": "05553102-639c-462e-beb5-0783c8c8ae81"
   },
   "outputs": [
    {
     "name": "stdout",
     "output_type": "stream",
     "text": [
      "Accuracy: 8994/10000 (90%)\n",
      "\n"
     ]
    }
   ],
   "source": [
    "# Accuracy should be around 90%.\n",
    "test(model, test_loader)"
   ]
  },
  {
   "cell_type": "markdown",
   "metadata": {
    "colab_type": "text",
    "id": "g1DV-MS2bxYq"
   },
   "source": [
    "**Question:** To have the logistic regressor output probabilities, they need to be processed through a softmax layer. Implement a softmax layer yourself. What numerical issues may arise in this layer? How can you solve them? Use the testing code to confirm you implemented it correctly."
   ]
  },
  {
   "cell_type": "code",
   "execution_count": 21,
   "metadata": {
    "colab": {},
    "colab_type": "code",
    "id": "Dj4X2PnOfK9W",
    "outputId": "f810785e-b49e-4999-9e3d-8c3c4e8d9230"
   },
   "outputs": [
    {
     "name": "stdout",
     "output_type": "stream",
     "text": [
      "tensor(nan) tensor(nan)\n"
     ]
    }
   ],
   "source": [
    "def bad_softmax(logits):\n",
    "  \"\"\"Computes softmax in a naive manner.\"\"\"\n",
    "  probs = logits.exp()\n",
    "  probs /= probs.sum(-1, keepdim=True)\n",
    "  return probs\n",
    "\n",
    "def good_softmax(logits):\n",
    "  \"\"\"Computes softmax in a numerically safe manner.\"\"\"\n",
    "  ###########################################################################\n",
    "  # TODO: Change this so that doesn't output nan for the example below.     #\n",
    "  ###########################################################################\n",
    "  probs = logits.exp()\n",
    "  probs /= probs.sum(-1, keepdim=True)\n",
    "  return probs\n",
    "\n",
    "\n",
    "# Test the new softmax layer.\n",
    "logits = torch.rand((1, 20)) + 100\n",
    "print(bad_softmax(logits).sum(), \n",
    "      good_softmax(logits).sum())  # by definition, the correct value is 1"
   ]
  },
  {
   "cell_type": "markdown",
   "metadata": {
    "colab_type": "text",
    "id": "4C_J5S0RScXJ"
   },
   "source": [
    "Because of numerical issues like the one you just experiences, PyTorch code typically uses a `LogSoftmax` layer."
   ]
  },
  {
   "cell_type": "markdown",
   "metadata": {
    "colab_type": "text",
    "id": "oSqM9k_FD8wc"
   },
   "source": [
    "### Image processing via convolutions\n",
    "\n",
    "As fun way to gain a better understanding of the type of operation that convolutional layers can perform, we will set up an input containing two images and manually set up filters that perform common image processing operations (grayscale conversion and edge detection). We use will `nn.functional.conv2d` to apply the convolutions. Neural network do the same, but with learned filters.\n",
    "\n",
    "**Question:** What kernel corresponds to a vertical edge detector?"
   ]
  },
  {
   "cell_type": "code",
   "execution_count": 22,
   "metadata": {
    "colab": {},
    "colab_type": "code",
    "id": "gDHLyTmlD_WC",
    "outputId": "778efd5c-133c-4d44-e248-4afc8b3747b6"
   },
   "outputs": [
    {
     "name": "stderr",
     "output_type": "stream",
     "text": [
      "/usr/lib/python3/dist-packages/skimage/transform/_warps.py:105: UserWarning: The default mode, 'constant', will be changed to 'reflect' in skimage 0.15.\n",
      "  warn(\"The default mode, 'constant', will be changed to 'reflect' in \"\n",
      "/usr/lib/python3/dist-packages/skimage/transform/_warps.py:110: UserWarning: Anti-aliasing will be enabled by default in skimage 0.15 to avoid aliasing artifacts when down-sampling images.\n",
      "  warn(\"Anti-aliasing will be enabled by default in skimage 0.15 to \"\n",
      "/usr/lib/python3/dist-packages/ipykernel_launcher.py:52: RuntimeWarning: invalid value encountered in true_divide\n"
     ]
    },
    {
     "data": {
      "image/png": "[encoded data removed]",
      "text/plain": [
       "<Figure size 432x288 with 8 Axes>"
      ]
     },
     "metadata": {
      "needs_background": "light"
     },
     "output_type": "display_data"
    }
   ],
   "source": [
    "# Load image of a kitten and a puppy.\n",
    "kitten_uri = (\n",
    "    \"https://upload.wikimedia.org/wikipedia/commons/thumb/1/1b\"\n",
    "    \"/Persian_Cat_%28kitten%29.jpg/256px-Persian_Cat_%28kitten%29.jpg\")\n",
    "puppy_uri = (\n",
    "    \"https://upload.wikimedia.org/wikipedia/commons/thumb/6/6e/Golde33443.jpg\"\n",
    "    \"/256px-Golde33443.jpg\")\n",
    "kitten, puppy = io.imread(kitten_uri), io.imread(puppy_uri)\n",
    "kitten = skimage.transform.resize(kitten, (200, 200))\n",
    "puppy = skimage.transform.resize(puppy, (200, 200))\n",
    "\n",
    "img_size = 200   # Make this smaller if it runs too slow\n",
    "\n",
    "x = np.zeros((2, 3, img_size, img_size))\n",
    "x[0, :, :, :] = skimage.transform.resize(puppy, (img_size, img_size)).transpose((2, 0, 1))\n",
    "x[1, :, :, :] = skimage.transform.resize(kitten, (img_size, img_size)).transpose((2, 0, 1))\n",
    "\n",
    "# Set up a convolutional weights holding 3 filters, each 3x3\n",
    "# Dimensions: num_kernels x channels x heigth x width\n",
    "w = np.zeros((3, 3, 3, 3))\n",
    "\n",
    "# The first filter converts the image to grayscale.\n",
    "# Set up the red, green, and blue channels of the filter.\n",
    "w[0, 0, :, :] = [[0, 0, 0], [0, 0.3, 0], [0, 0, 0]]\n",
    "w[0, 1, :, :] = [[0, 0, 0], [0, 0.6, 0], [0, 0, 0]]\n",
    "w[0, 2, :, :] = [[0, 0, 0], [0, 0.1, 0], [0, 0, 0]]\n",
    "\n",
    "# Second filter detects horizontal edges in the blue channel.\n",
    "w[1, 2, :, :] = [[1, 2, 1], [0, 0, 0], [-1, -2, -1]]\n",
    "\n",
    "############################################################\n",
    "# TODO: Implement a vertial edge detector on blue channel. #\n",
    "############################################################\n",
    "# Third filter should detect vertical edge.\n",
    "w[2, 2, :, :] = [[0, 0, 0], [0, 0, 0], [0, 0, 0]]\n",
    "\n",
    "# Vector of biases. We don't need any bias for the grayscale\n",
    "# filter, but for the edge detection filter we want to add 128\n",
    "# to each output so that nothing is negative.\n",
    "b = np.array([0, 128, 128])\n",
    "\n",
    "# Compute the result of convolving each input in x with each filter in w,\n",
    "# offsetting by b, and storing the results in out.\n",
    "out = nn.functional.conv2d(\n",
    "    torch.FloatTensor(x), torch.FloatTensor(w), torch.FloatTensor(b),\n",
    "    stride=1, padding=1).numpy()\n",
    "\n",
    "def imshow_noax(img, normalize=True):\n",
    "    \"\"\"Tiny helper to show images as uint8 and remove axis labels.\"\"\"\n",
    "    if normalize:\n",
    "        img_max, img_min = np.max(img), np.min(img)\n",
    "        img = 255.0 * (img - img_min) / (img_max - img_min)\n",
    "    plt.imshow(img.astype('uint8'))\n",
    "    plt.gca().axis('off')\n",
    "\n",
    "# Show the original images and the results of the conv operation\n",
    "plt.subplot(2, 4, 1)\n",
    "imshow_noax(puppy)\n",
    "plt.title('Original image')\n",
    "plt.subplot(2, 4, 2)\n",
    "imshow_noax(out[0, 0])\n",
    "plt.title('Grayscale')\n",
    "plt.subplot(2, 4, 3)\n",
    "imshow_noax(out[0, 1])\n",
    "plt.title('H-Edges')\n",
    "plt.subplot(2, 4, 4)\n",
    "imshow_noax(out[0, 2])\n",
    "plt.title('Your kernel')\n",
    "plt.subplot(2, 4, 5)\n",
    "imshow_noax(kitten)\n",
    "plt.subplot(2, 4, 6)\n",
    "imshow_noax(out[1, 0])\n",
    "plt.subplot(2, 4, 7)\n",
    "imshow_noax(out[1, 1])\n",
    "plt.subplot(2, 4, 8)\n",
    "imshow_noax(out[1, 2])\n",
    "plt.show()"
   ]
  },
  {
   "cell_type": "markdown",
   "metadata": {
    "colab_type": "text",
    "id": "P0xTuXo3dyWH"
   },
   "source": [
    "### Convolutional network\n",
    "\n",
    "We will now replace the logistic regressor by a small convolutional network with two convolutional layers and a linear layer, and ReLU activations in between the layers. Implement the model and use the same functions as before to train and test the convolutional network."
   ]
  },
  {
   "cell_type": "code",
   "execution_count": 23,
   "metadata": {
    "colab": {},
    "colab_type": "code",
    "id": "vg4CO_WDeLqh",
    "outputId": "86bc72df-cd2a-456a-d270-5bad5f1db25c"
   },
   "outputs": [
    {
     "name": "stdout",
     "output_type": "stream",
     "text": [
      "Train Epoch: 0 [0/60000 (0%)]\tLoss: 2.351854\n",
      "Train Epoch: 0 [6400/60000 (11%)]\tLoss: 1.182868\n",
      "Train Epoch: 0 [12800/60000 (21%)]\tLoss: 0.513435\n",
      "Train Epoch: 0 [19200/60000 (32%)]\tLoss: 0.246717\n",
      "Train Epoch: 0 [25600/60000 (43%)]\tLoss: 0.147052\n",
      "Train Epoch: 0 [32000/60000 (53%)]\tLoss: 0.094486\n",
      "Train Epoch: 0 [38400/60000 (64%)]\tLoss: 0.073384\n",
      "Train Epoch: 0 [44800/60000 (75%)]\tLoss: 0.069929\n",
      "Train Epoch: 0 [51200/60000 (85%)]\tLoss: 0.062889\n",
      "Train Epoch: 0 [57600/60000 (96%)]\tLoss: 0.053635\n",
      "Train Epoch: 1 [0/60000 (0%)]\tLoss: 0.052612\n",
      "Train Epoch: 1 [6400/60000 (11%)]\tLoss: 0.050802\n",
      "Train Epoch: 1 [12800/60000 (21%)]\tLoss: 0.045722\n",
      "Train Epoch: 1 [19200/60000 (32%)]\tLoss: 0.047559\n",
      "Train Epoch: 1 [25600/60000 (43%)]\tLoss: 0.045896\n",
      "Train Epoch: 1 [32000/60000 (53%)]\tLoss: 0.040594\n",
      "Train Epoch: 1 [38400/60000 (64%)]\tLoss: 0.045180\n",
      "Train Epoch: 1 [44800/60000 (75%)]\tLoss: 0.042945\n",
      "Train Epoch: 1 [51200/60000 (85%)]\tLoss: 0.044589\n",
      "Train Epoch: 1 [57600/60000 (96%)]\tLoss: 0.037750\n",
      "Train Epoch: 2 [0/60000 (0%)]\tLoss: 0.038239\n",
      "Train Epoch: 2 [6400/60000 (11%)]\tLoss: 0.027966\n",
      "Train Epoch: 2 [12800/60000 (21%)]\tLoss: 0.040202\n",
      "Train Epoch: 2 [19200/60000 (32%)]\tLoss: 0.034100\n",
      "Train Epoch: 2 [25600/60000 (43%)]\tLoss: 0.029667\n",
      "Train Epoch: 2 [32000/60000 (53%)]\tLoss: 0.027555\n",
      "Train Epoch: 2 [38400/60000 (64%)]\tLoss: 0.033527\n",
      "Train Epoch: 2 [44800/60000 (75%)]\tLoss: 0.034666\n",
      "Train Epoch: 2 [51200/60000 (85%)]\tLoss: 0.034888\n",
      "Train Epoch: 2 [57600/60000 (96%)]\tLoss: 0.036905\n",
      "Train Epoch: 3 [0/60000 (0%)]\tLoss: 0.032605\n",
      "Train Epoch: 3 [6400/60000 (11%)]\tLoss: 0.027237\n",
      "Train Epoch: 3 [12800/60000 (21%)]\tLoss: 0.026731\n",
      "Train Epoch: 3 [19200/60000 (32%)]\tLoss: 0.026210\n",
      "Train Epoch: 3 [25600/60000 (43%)]\tLoss: 0.034652\n",
      "Train Epoch: 3 [32000/60000 (53%)]\tLoss: 0.033224\n",
      "Train Epoch: 3 [38400/60000 (64%)]\tLoss: 0.027896\n",
      "Train Epoch: 3 [44800/60000 (75%)]\tLoss: 0.031451\n",
      "Train Epoch: 3 [51200/60000 (85%)]\tLoss: 0.025335\n",
      "Train Epoch: 3 [57600/60000 (96%)]\tLoss: 0.024987\n",
      "Train Epoch: 4 [0/60000 (0%)]\tLoss: 0.024029\n",
      "Train Epoch: 4 [6400/60000 (11%)]\tLoss: 0.020689\n",
      "Train Epoch: 4 [12800/60000 (21%)]\tLoss: 0.020779\n",
      "Train Epoch: 4 [19200/60000 (32%)]\tLoss: 0.025320\n",
      "Train Epoch: 4 [25600/60000 (43%)]\tLoss: 0.018236\n",
      "Train Epoch: 4 [32000/60000 (53%)]\tLoss: 0.022282\n",
      "Train Epoch: 4 [38400/60000 (64%)]\tLoss: 0.026939\n",
      "Train Epoch: 4 [44800/60000 (75%)]\tLoss: 0.030309\n",
      "Train Epoch: 4 [51200/60000 (85%)]\tLoss: 0.028384\n",
      "Train Epoch: 4 [57600/60000 (96%)]\tLoss: 0.025099\n",
      "Accuracy: 9865/10000 (99%)\n",
      "\n"
     ]
    }
   ],
   "source": [
    "class ConvolutionalNetwork(nn.Module):   \n",
    "    \"\"\"Simple convolutional network.\"\"\"\n",
    "    def __init__(self, input_size, num_classes, in_channels=1):\n",
    "        super(ConvolutionalNetwork, self).__init__()\n",
    "        # Fill these in:\n",
    "        ##########################################################################\n",
    "        # TODO: Implement a convulutional and a linear part.                     #\n",
    "        # Hint: see forward() to understand how they should work together.       #\n",
    "        # Hint: the following may be useful: nn.Conv2d, nn.MaxPool2d.            #\n",
    "        ##########################################################################\n",
    "        self.conv_network = nn.Sequential(\n",
    "            # Add your modules here.\n",
    "            nn.Conv2d(1, 32, 3, padding=1),\n",
    "            nn.BatchNorm2d(32),\n",
    "            nn.ReLU(),\n",
    "            nn.MaxPool2d(2),\n",
    "            \n",
    "            nn.Conv2d(32, 128, 3, padding=1),\n",
    "            nn.BatchNorm2d(128),\n",
    "            nn.ReLU(),\n",
    "            nn.MaxPool2d(2),\n",
    "            \n",
    "            nn.Conv2d(128, 256, 3, padding=1),\n",
    "            nn.BatchNorm2d(256),\n",
    "            nn.ReLU(),\n",
    "            nn.MaxPool2d(2),  \n",
    "        )\n",
    "\n",
    "        self.linear = nn.Linear(256*3*3, 10)\n",
    "\n",
    "    def forward(self, x):\n",
    "        batch_size = x.shape[0]\n",
    "\n",
    "        x = self.conv_network(x)\n",
    "        x = self.linear(x.view(x.size(0), -1))\n",
    "        return x\n",
    "\n",
    "    \n",
    "# Create and train convolutional network.\n",
    "# The accuracy should be around 98%.\n",
    "conv_model = ConvolutionalNetwork(28, 10)\n",
    "###########################################################################\n",
    "# TODO: Create criterion and optimize here.         \n",
    "optimizer = torch.optim.Adam(conv_model.parameters(), lr=0.01)\n",
    "###########################################################################\n",
    "\n",
    "criterion = nn.CrossEntropyLoss()\n",
    "# Make sure you optimize conv_model rather than model.\n",
    "# optimizer = torch.nn.optim.Adam(model.parameters, lr=0.001)\n",
    "train(conv_model, criterion, train_loader, optimizer, num_epochs=5)\n",
    "test(conv_model, test_loader)"
   ]
  },
  {
   "cell_type": "markdown",
   "metadata": {
    "colab_type": "text",
    "id": "EgLLXSScfwqK"
   },
   "source": [
    "Inspect the filters in the first layer of the trained convolutional network. What do they look like? Why?"
   ]
  },
  {
   "cell_type": "code",
   "execution_count": 27,
   "metadata": {
    "colab": {},
    "colab_type": "code",
    "id": "Ye1xcjUif4e-",
    "outputId": "1581329e-7ce9-4105-c46c-b05daeb2d68a"
   },
   "outputs": [
    {
     "data": {
      "image/png": "[encoded data removed]",
      "text/plain": [
       "<Figure size 432x288 with 1 Axes>"
      ]
     },
     "metadata": {
      "needs_background": "light"
     },
     "output_type": "display_data"
    }
   ],
   "source": [
    "first_conv = list(conv_model.conv_network.children())[0]\n",
    "show(torchvision.utils.make_grid(\n",
    "    first_conv.weight,\n",
    "    normalize=True,\n",
    "    nrow=8,\n",
    "))"
   ]
  },
  {
   "cell_type": "markdown",
   "metadata": {
    "colab_type": "text",
    "id": "FMxpPxv8EOEP"
   },
   "source": [
    "Let's visualize convolutional weights of a bigger model trained on classification of real images from ImageNet dataset. Training this network will take a lot of time, so we'll use a pre-trained model from `torchvision` package.\n",
    "These weights look rather different. Why?"
   ]
  },
  {
   "cell_type": "code",
   "execution_count": 28,
   "metadata": {
    "colab": {},
    "colab_type": "code",
    "id": "gADbMxziFsOh",
    "outputId": "a6ae9842-9b1a-49bb-d456-df038326d110"
   },
   "outputs": [
    {
     "data": {
      "image/png": "[encoded data removed]",
      "text/plain": [
       "<Figure size 576x576 with 1 Axes>"
      ]
     },
     "metadata": {
      "needs_background": "light"
     },
     "output_type": "display_data"
    }
   ],
   "source": [
    "plt.figure(figsize=(8, 8))\n",
    "show(torchvision.utils.make_grid(\n",
    "    torchvision.models.resnet18(pretrained=True).conv1.weight.data,\n",
    "    normalize=True,\n",
    "    nrow=8,\n",
    "))"
   ]
  },
  {
   "cell_type": "markdown",
   "metadata": {
    "colab_type": "text",
    "id": "ncHkdY3df6R7"
   },
   "source": [
    "**Question [optional]:** Implement your own version of forward pass of nn.Conv2d in numpy **without** using any of pre-defined convolutional functions."
   ]
  },
  {
   "cell_type": "code",
   "execution_count": 31,
   "metadata": {
    "colab": {},
    "colab_type": "code",
    "id": "RV30kha3vSsC"
   },
   "outputs": [],
   "source": [
    "def conv_forward_naive(x, w, b, conv_param):\n",
    "    \"\"\"\n",
    "    A naive Python implementation of a convolutional layer.\n",
    "    The input consists of N data points, each with C channels, height H and\n",
    "    width W. We convolve each input with F different filters, where each filter\n",
    "    spans all C channels and has height HH and width WW.\n",
    "    Input:\n",
    "    - x: Input data of shape (N, C, H, W)\n",
    "    - w: Filter weights of shape (F, C, HH, WW)\n",
    "    - b: Biases, of shape (F,)\n",
    "    - conv_param: A dictionary with the following keys:\n",
    "      - 'stride': The number of pixels between adjacent receptive fields in the\n",
    "        horizontal and vertical directions.\n",
    "      - 'pad': The number of pixels that will be used to zero-pad the input. \n",
    "        \n",
    "    During padding, 'pad' zeros should be placed symmetrically (i.e equally on both sides)\n",
    "    along the height and width axes of the input. Be careful not to modfiy the original\n",
    "    input x directly.\n",
    "    Returns an array.\n",
    "    - out: Output data, of shape (N, F, H', W') where H' and W' are given by\n",
    "      H' = 1 + (H + 2 * pad - HH) / stride\n",
    "      W' = 1 + (W + 2 * pad - WW) / stride\n",
    "    \"\"\"\n",
    "    out = []\n",
    "\n",
    "    N, channels, _image_height, _image_width = x.shape\n",
    "    no_kernels, _, kernel_height, kernel_width = w.shape\n",
    "    stride, padding = conv_param['stride'], conv_param['pad']\n",
    "    kernel=w\n",
    "\n",
    "    # Check dimensions.\n",
    "    assert (_image_width + 2 * padding - kernel_width) % stride == 0, 'width does not work'\n",
    "    assert (_image_height + 2 * padding - kernel_height) % stride == 0, 'height does not work'\n",
    "\n",
    "    ###########################################################################\n",
    "    # TODO: Implement the convolutional forward pass (in numpy).              #\n",
    "    # Hint: you can use the function np.pad for padding.                      #\n",
    "    ###########################################################################    channels = image.shape[0]\n",
    "    fmap_h = int((_image_height-kernel_height+(2*padding))/stride)+1\n",
    "    fmap_w = int((_image_width-kernel_width+(2*padding))/stride)+1\n",
    "    for img_idx in range(N):\n",
    "        image = x[img_idx]\n",
    "        new_image = np.zeros((channels*kernel_height*kernel_width, fmap_h*fmap_w))\n",
    "        fmaps = []\n",
    "        if padding>0:\n",
    "            temp = np.zeros((channels,_image_height+2*padding, _image_width+2*padding))\n",
    "            temp[:,padding:-padding,padding:-padding] = image\n",
    "            image = temp\n",
    "            image_height = image.shape[1]\n",
    "            image_width = image.shape[2]\n",
    "            del temp\n",
    "        idx, ch = 0,0\n",
    "        while ch<channels:\n",
    "            row,idx = 0,0\n",
    "            while row+kernel_height <= image_height:\n",
    "                col=0\n",
    "                while col+kernel_width <= image_width:\n",
    "                    new_image[kernel_height*kernel_width*ch:kernel_height*kernel_width*ch+(kernel_height*kernel_width), idx] = (image[ch,row:row+kernel_height,col:col+kernel_width]).reshape(-1)\n",
    "                    idx+=1\n",
    "                    col+=stride\n",
    "                row+=stride\n",
    "            ch+=1\n",
    "        for k in range(no_kernels):\n",
    "            fmap = (kernel[k].reshape(-1) @ new_image).reshape(fmap_h,fmap_w)#.astype(np.float)\n",
    "            fmaps.append(fmap)\n",
    "        out.append(np.array(fmaps))\n",
    "    return np.array(out)"
   ]
  },
  {
   "cell_type": "markdown",
   "metadata": {
    "colab_type": "text",
    "id": "6dDNQP8VvVVj"
   },
   "source": [
    "You can test your implementation by running the following:"
   ]
  },
  {
   "cell_type": "code",
   "execution_count": 33,
   "metadata": {
    "colab": {
     "base_uri": "https://localhost:8080/",
     "height": 231
    },
    "colab_type": "code",
    "id": "7Leww6XRuC_0",
    "outputId": "813bf4d0-c78e-4910-8e46-039b831e9042"
   },
   "outputs": [
    {
     "name": "stdout",
     "output_type": "stream",
     "text": [
      "Testing conv_forward_naive\n",
      "difference:  -0.19677172806362653\n"
     ]
    }
   ],
   "source": [
    "# Make convolution module.\n",
    "w_shape = (3, 3, 4, 4)\n",
    "w = np.linspace(-0.2, 0.3, num=np.prod(w_shape)).reshape(w_shape)\n",
    "b = np.linspace(-0.1, 0.2, num=3)\n",
    "\n",
    "# Compute output of module and compare against reference values.\n",
    "x_shape = (2, 3, 4, 4)\n",
    "x = np.linspace(-0.1, 0.5, num=np.prod(x_shape)).reshape(x_shape)\n",
    "out = conv_forward_naive(x, w, b, {'stride': 2, 'pad': 1})\n",
    "\n",
    "correct_out = np.array([[[[-0.08759809, -0.10987781],\n",
    "                           [-0.18387192, -0.2109216 ]],\n",
    "                          [[ 0.21027089,  0.21661097],\n",
    "                           [ 0.22847626,  0.23004637]],\n",
    "                          [[ 0.50813986,  0.54309974],\n",
    "                           [ 0.64082444,  0.67101435]]],\n",
    "                         [[[-0.98053589, -1.03143541],\n",
    "                           [-1.19128892, -1.24695841]],\n",
    "                          [[ 0.69108355,  0.66880383],\n",
    "                           [ 0.59480972,  0.56776003]],\n",
    "                          [[ 2.36270298,  2.36904306],\n",
    "                           [ 2.38090835,  2.38247847]]]])\n",
    "\n",
    "# Compare your output to ours; difference should be around e-8\n",
    "print('Testing conv_forward_naive')\n",
    "rel_error = ((out - correct_out) / (out + correct_out + 1e-6)).mean()\n",
    "print('difference: ', rel_error)\n",
    "#assert abs(rel_error) < 1e-6, 'Something is wrong'"
   ]
  },
  {
   "cell_type": "markdown",
   "metadata": {
    "colab_type": "text",
    "id": "tejSU82HO65S"
   },
   "source": [
    "## correct_out is not correct\n",
    "\n",
    "## Below we compare the output of our function with PyTorch's output\n"
   ]
  },
  {
   "cell_type": "code",
   "execution_count": 34,
   "metadata": {
    "colab": {
     "base_uri": "https://localhost:8080/",
     "height": 51
    },
    "colab_type": "code",
    "id": "H8D-SD-uOr3Q",
    "outputId": "b88717ef-dedd-431b-913b-6dcf491c066d"
   },
   "outputs": [
    {
     "name": "stdout",
     "output_type": "stream",
     "text": [
      "Testing conv_forward_naive with PyTorch Output\n",
      "difference:  -2.379816414820934e-17\n"
     ]
    }
   ],
   "source": [
    "import torch\n",
    "_image = torch.from_numpy(x)\n",
    "_kernel = torch.from_numpy(w)\n",
    "torch_out = torch.nn.functional.conv2d(_image, _kernel, stride=2, padding=1)\n",
    "\n",
    "# Compare your output to ours; difference should be around e-8\n",
    "print('Testing conv_forward_naive with PyTorch Output')\n",
    "rel_error = ((out - torch_out.numpy()) / (out + correct_out + 1e-6)).mean()\n",
    "print('difference: ', rel_error)\n",
    "assert abs(rel_error) < 1e-6, 'Something is wrong'"
   ]
  }
 ],
 "metadata": {
  "accelerator": "GPU",
  "colab": {
   "collapsed_sections": [],
   "name": "assignment_1_convnets.ipynb",
   "provenance": []
  },
  "kernelspec": {
   "display_name": "Python 3",
   "language": "python",
   "name": "python3"
  },
  "language_info": {
   "codemirror_mode": {
    "name": "ipython",
    "version": 3
   },
   "file_extension": ".py",
   "mimetype": "text/x-python",
   "name": "python",
   "nbconvert_exporter": "python",
   "pygments_lexer": "ipython3",
   "version": "3.7.3"
  }
 },
 "nbformat": 4,
 "nbformat_minor": 1
}
